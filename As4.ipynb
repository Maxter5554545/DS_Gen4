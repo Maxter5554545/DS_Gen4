{
 "cells": [
  {
   "cell_type": "code",
   "execution_count": 5,
   "id": "39b1c025-d865-4e49-b2b2-0367e0f77ad5",
   "metadata": {},
   "outputs": [
    {
     "name": "stdout",
     "output_type": "stream",
     "text": [
      "1\n",
      "2\n",
      "3\n",
      "4\n",
      "5\n"
     ]
    }
   ],
   "source": [
    "# 1. Print number from 1 to 5 using a while loop.\n",
    "\n",
    "\n",
    "num = 1 #Creating a identifier variable named num and assigning it equals to 1 \n",
    "\n",
    "#Using while loop & setting the condition that, the numbers will add up to 1 until it becomes 5\n",
    "\n",
    "while num <= 5:\n",
    "    \n",
    "    print(num)\n",
    "    \n",
    "    num += 1\n",
    "    "
   ]
  },
  {
   "cell_type": "code",
   "execution_count": 30,
   "id": "5ab34a32-5ace-4446-93c8-c0a1dab493bc",
   "metadata": {},
   "outputs": [
    {
     "name": "stdout",
     "output_type": "stream",
     "text": [
      "55\n"
     ]
    }
   ],
   "source": [
    "#2. Calculate the sum of number from 1 to 10 using a while loop.\n",
    "\n",
    "num = 1 #Creating a identifier variable named num and assigning it equals to 1 \n",
    "\n",
    "suma = 0 # Creating a identifier variable named sum and assigning it to zero so we can re-assign and add-up the incremented numbers by num\n",
    "\n",
    "#Creating a while loop & setting the condition that if increment and add up the numbers in variable num until the num variable increments till 10\n",
    "while num <= 10:\n",
    "    \n",
    "    suma = suma + num\n",
    "    \n",
    "    num += 1\n",
    "    \n",
    "print(suma)"
   ]
  },
  {
   "cell_type": "code",
   "execution_count": 37,
   "id": "b772a94b-e1c3-4470-a440-b8d04e01cf09",
   "metadata": {},
   "outputs": [
    {
     "name": "stdin",
     "output_type": "stream",
     "text": [
      "Enter a number for the factorial:  5\n"
     ]
    },
    {
     "name": "stdout",
     "output_type": "stream",
     "text": [
      "\n",
      "The factorial of 5 is 120\n"
     ]
    }
   ],
   "source": [
    "# 3. Calculate the factorial of a number using a for loop.\n",
    "\n",
    "ente = int(input(\"Enter a number for the factorial: \"))\n",
    "fac = 1\n",
    "\n",
    "if ente == 1:\n",
    "    print(1)\n",
    "else:\n",
    "    for i in range(1, ente +1):\n",
    "        fac *= i \n",
    "    print(f\"\\nThe factorial of {ente} is {fac}\")"
   ]
  },
  {
   "cell_type": "code",
   "execution_count": 41,
   "id": "2c37e92a-9f8d-441d-86a7-014d315a8ebe",
   "metadata": {},
   "outputs": [
    {
     "name": "stdin",
     "output_type": "stream",
     "text": [
      "Enter a words:  aeiou\n"
     ]
    },
    {
     "name": "stdout",
     "output_type": "stream",
     "text": [
      "5\n"
     ]
    }
   ],
   "source": [
    "# 4. Count the number of vowel in a string using a for loop.\n",
    "\n",
    "vow = ['a', 'e', 'i', 'o', 'u'] #Creating a of indentifier variable \"vow\" and assiging a list of vowels a e i o u \n",
    "\n",
    "ctn = 0 # Creating identifier variable ctn and assigning it to 0 so after cheking the number of vowels in words it increses\n",
    "\n",
    "user = input(\"Enter a words: \") #Creating a user input for entering some set of strings\n",
    "\n",
    "#Creating a for loop operation for counting number of vowels\n",
    "\n",
    "for i in user:\n",
    "    \n",
    "    if i.lower() in vow:\n",
    "        \n",
    "        ctn += 1\n",
    "        \n",
    "print(ctn)   "
   ]
  },
  {
   "cell_type": "code",
   "execution_count": 56,
   "id": "962e8f9f-37f2-4957-9e05-085688abdf4f",
   "metadata": {},
   "outputs": [
    {
     "name": "stdin",
     "output_type": "stream",
     "text": [
      "Enter a number for the triangles:  6\n"
     ]
    },
    {
     "name": "stdout",
     "output_type": "stream",
     "text": [
      " \n",
      "*  \n",
      "* *  \n",
      "* * *  \n",
      "* * * *  \n",
      "* * * * *  \n",
      "* * * * *  \n",
      "* * * *  \n",
      "* * *  \n",
      "* *  \n",
      "*  \n",
      " \n"
     ]
    }
   ],
   "source": [
    "#5. Print a pattern using nested loop.\n",
    "num = int(input(\"Enter a number for the triangles: \"))\n",
    "\n",
    "#creating a triangle pattern by nested loop operations\n",
    "\n",
    "for i in range(1, num+1):\n",
    "    \n",
    "    for j in range(1, i):\n",
    "        \n",
    "        print(\"*\", end=\" \")\n",
    "        \n",
    "    print(\" \")\n",
    "\n",
    "#Reverse of triangle patters, cause it makes a semi-diamond shape\n",
    "for i in range(num, 0, -1):\n",
    "    \n",
    "    for j in range(1,i):\n",
    "        \n",
    "        print(\"*\", end=\" \")\n",
    "        \n",
    "    print(\" \")"
   ]
  },
  {
   "cell_type": "code",
   "execution_count": 58,
   "id": "d8ead5d3-90be-4aef-aea5-b7ca0c1a95c1",
   "metadata": {},
   "outputs": [
    {
     "name": "stdin",
     "output_type": "stream",
     "text": [
      "Enter the table number:  5\n"
     ]
    },
    {
     "name": "stdout",
     "output_type": "stream",
     "text": [
      "5 x 1 = 5\n",
      "5 x 2 = 10\n",
      "5 x 3 = 15\n",
      "5 x 4 = 20\n",
      "5 x 5 = 25\n",
      "5 x 6 = 30\n",
      "5 x 7 = 35\n",
      "5 x 8 = 40\n",
      "5 x 9 = 45\n",
      "5 x 10 = 50\n"
     ]
    }
   ],
   "source": [
    "#6. Generate a multiplication table using nested loop.\n",
    "\n",
    "# Creating a user input so the user can enter a number \n",
    "tab = int(input(\"Enter the table number: \"))\n",
    "\n",
    "# \n",
    "for i in range(1, 10+1):\n",
    "    print(f\"{tab} x {i} = {tab*i}\")"
   ]
  },
  {
   "cell_type": "code",
   "execution_count": null,
   "id": "f9625f4a-b8aa-4d61-94a4-b136b12bfef6",
   "metadata": {},
   "outputs": [],
   "source": []
  }
 ],
 "metadata": {
  "kernelspec": {
   "display_name": "Python 3 (ipykernel)",
   "language": "python",
   "name": "python3"
  },
  "language_info": {
   "codemirror_mode": {
    "name": "ipython",
    "version": 3
   },
   "file_extension": ".py",
   "mimetype": "text/x-python",
   "name": "python",
   "nbconvert_exporter": "python",
   "pygments_lexer": "ipython3",
   "version": "3.10.8"
  }
 },
 "nbformat": 4,
 "nbformat_minor": 5
}
